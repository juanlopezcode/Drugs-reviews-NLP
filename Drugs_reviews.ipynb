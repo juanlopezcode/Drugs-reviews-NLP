{
  "nbformat": 4,
  "nbformat_minor": 0,
  "metadata": {
    "colab": {
      "name": "sentiment_analysis.ipynb",
      "provenance": [],
      "collapsed_sections": []
    },
    "kernelspec": {
      "name": "python3",
      "display_name": "Python 3"
    },
    "language_info": {
      "name": "python"
    }
  },
  "cells": [
    {
      "cell_type": "code",
      "metadata": {
        "id": "ej50Zv-SoNSp",
        "colab": {
          "base_uri": "https://localhost:8080/"
        },
        "outputId": "61d0a6dc-c7ca-4723-a3e2-cd23d65129f8"
      },
      "source": [
        "import pandas as pd\n",
        "import io\n",
        "import matplotlib.pyplot as plt\n",
        "import nltk\n",
        "nltk.download(\"vader_lexicon\")\n",
        "from nltk.sentiment.vader import SentimentIntensityAnalyzer\n",
        "from sklearn.feature_extraction.text import CountVectorizer"
      ],
      "execution_count": 1,
      "outputs": [
        {
          "output_type": "stream",
          "text": [
            "[nltk_data] Downloading package vader_lexicon to /root/nltk_data...\n"
          ],
          "name": "stdout"
        },
        {
          "output_type": "stream",
          "text": [
            "/usr/local/lib/python3.7/dist-packages/nltk/twitter/__init__.py:20: UserWarning: The twython library has not been installed. Some functionality from the twitter package will not be available.\n",
            "  warnings.warn(\"The twython library has not been installed. \"\n"
          ],
          "name": "stderr"
        }
      ]
    },
    {
      "cell_type": "code",
      "metadata": {
        "id": "yRmwc3TCR70L"
      },
      "source": [
        "from sklearn.feature_extraction.text import TfidfVectorizer\n",
        "from sklearn.decomposition import NMF\n",
        "from sklearn.decomposition import LatentDirichletAllocation\n",
        "from sklearn import metrics\n",
        "import random\n",
        "from sklearn.model_selection import train_test_split\n",
        "from sklearn.linear_model import LogisticRegression\n",
        "from sklearn.feature_extraction.text import TfidfTransformer\n",
        "from sklearn.pipeline import Pipeline"
      ],
      "execution_count": 2,
      "outputs": []
    },
    {
      "cell_type": "code",
      "metadata": {
        "colab": {
          "resources": {
            "http://localhost:8080/nbextensions/google.colab/files.js": {
              "data": "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",
              "ok": true,
              "headers": [
                [
                  "content-type",
                  "application/javascript"
                ]
              ],
              "status": 200,
              "status_text": ""
            }
          },
          "base_uri": "https://localhost:8080/",
          "height": 70
        },
        "id": "6N4gMtaR2vqd",
        "outputId": "2d83183c-9fe8-4853-aadb-176ddfebedc7"
      },
      "source": [
        "from google.colab import files\n",
        "uploaded = files.upload()"
      ],
      "execution_count": 3,
      "outputs": [
        {
          "output_type": "display_data",
          "data": {
            "text/html": [
              "\n",
              "     <input type=\"file\" id=\"files-bf518813-00f0-4e52-9eda-f1332f8a3aca\" name=\"files[]\" multiple disabled\n",
              "        style=\"border:none\" />\n",
              "     <output id=\"result-bf518813-00f0-4e52-9eda-f1332f8a3aca\">\n",
              "      Upload widget is only available when the cell has been executed in the\n",
              "      current browser session. Please rerun this cell to enable.\n",
              "      </output>\n",
              "      <script src=\"/nbextensions/google.colab/files.js\"></script> "
            ],
            "text/plain": [
              "<IPython.core.display.HTML object>"
            ]
          },
          "metadata": {
            "tags": []
          }
        },
        {
          "output_type": "stream",
          "text": [
            "Saving drugsComTrain_raw.tsv to drugsComTrain_raw.tsv\n"
          ],
          "name": "stdout"
        }
      ]
    },
    {
      "cell_type": "code",
      "metadata": {
        "colab": {
          "resources": {
            "http://localhost:8080/nbextensions/google.colab/files.js": {
              "data": "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",
              "ok": true,
              "headers": [
                [
                  "content-type",
                  "application/javascript"
                ]
              ],
              "status": 200,
              "status_text": ""
            }
          },
          "base_uri": "https://localhost:8080/",
          "height": 70
        },
        "id": "kwD0Cs8U2vjX",
        "outputId": "b27c77e3-06a1-4d93-aa6e-ccf2d1d46630"
      },
      "source": [
        "from google.colab import files\n",
        "uploaded = files.upload()"
      ],
      "execution_count": 5,
      "outputs": [
        {
          "output_type": "display_data",
          "data": {
            "text/html": [
              "\n",
              "     <input type=\"file\" id=\"files-2833330e-d40d-46b3-aa63-be2d08c6a935\" name=\"files[]\" multiple disabled\n",
              "        style=\"border:none\" />\n",
              "     <output id=\"result-2833330e-d40d-46b3-aa63-be2d08c6a935\">\n",
              "      Upload widget is only available when the cell has been executed in the\n",
              "      current browser session. Please rerun this cell to enable.\n",
              "      </output>\n",
              "      <script src=\"/nbextensions/google.colab/files.js\"></script> "
            ],
            "text/plain": [
              "<IPython.core.display.HTML object>"
            ]
          },
          "metadata": {
            "tags": []
          }
        },
        {
          "output_type": "stream",
          "text": [
            "Saving drugsComTest_raw.tsv to drugsComTest_raw.tsv\n"
          ],
          "name": "stdout"
        }
      ]
    },
    {
      "cell_type": "code",
      "metadata": {
        "colab": {
          "base_uri": "https://localhost:8080/",
          "height": 105
        },
        "id": "oyyVCCqE3P2l",
        "outputId": "183a10e1-dc38-4683-f5da-bfde44a6654a"
      },
      "source": [
        "train = pd.read_csv(io.BytesIO(uploaded['drugsComTrain_raw.tsv']), sep=\"\\t\")\n",
        "train.head(2)"
      ],
      "execution_count": 4,
      "outputs": [
        {
          "output_type": "execute_result",
          "data": {
            "text/html": [
              "<div>\n",
              "<style scoped>\n",
              "    .dataframe tbody tr th:only-of-type {\n",
              "        vertical-align: middle;\n",
              "    }\n",
              "\n",
              "    .dataframe tbody tr th {\n",
              "        vertical-align: top;\n",
              "    }\n",
              "\n",
              "    .dataframe thead th {\n",
              "        text-align: right;\n",
              "    }\n",
              "</style>\n",
              "<table border=\"1\" class=\"dataframe\">\n",
              "  <thead>\n",
              "    <tr style=\"text-align: right;\">\n",
              "      <th></th>\n",
              "      <th>Unnamed: 0</th>\n",
              "      <th>drugName</th>\n",
              "      <th>condition</th>\n",
              "      <th>review</th>\n",
              "      <th>rating</th>\n",
              "      <th>date</th>\n",
              "      <th>usefulCount</th>\n",
              "    </tr>\n",
              "  </thead>\n",
              "  <tbody>\n",
              "    <tr>\n",
              "      <th>0</th>\n",
              "      <td>206461</td>\n",
              "      <td>Valsartan</td>\n",
              "      <td>Left Ventricular Dysfunction</td>\n",
              "      <td>\"It has no side effect, I take it in combinati...</td>\n",
              "      <td>9.0</td>\n",
              "      <td>May 20, 2012</td>\n",
              "      <td>27</td>\n",
              "    </tr>\n",
              "    <tr>\n",
              "      <th>1</th>\n",
              "      <td>95260</td>\n",
              "      <td>Guanfacine</td>\n",
              "      <td>ADHD</td>\n",
              "      <td>\"My son is halfway through his fourth week of ...</td>\n",
              "      <td>8.0</td>\n",
              "      <td>April 27, 2010</td>\n",
              "      <td>192</td>\n",
              "    </tr>\n",
              "  </tbody>\n",
              "</table>\n",
              "</div>"
            ],
            "text/plain": [
              "   Unnamed: 0    drugName  ...            date usefulCount\n",
              "0      206461   Valsartan  ...    May 20, 2012          27\n",
              "1       95260  Guanfacine  ...  April 27, 2010         192\n",
              "\n",
              "[2 rows x 7 columns]"
            ]
          },
          "metadata": {
            "tags": []
          },
          "execution_count": 4
        }
      ]
    },
    {
      "cell_type": "code",
      "metadata": {
        "colab": {
          "base_uri": "https://localhost:8080/",
          "height": 105
        },
        "id": "Fd0g9DWV3Au7",
        "outputId": "0779e9c6-c686-4cf0-c820-3c80b344ee60"
      },
      "source": [
        "test = pd.read_csv(io.BytesIO(uploaded['drugsComTest_raw.tsv']), sep=\"\\t\")\n",
        "test.head(2)"
      ],
      "execution_count": 6,
      "outputs": [
        {
          "output_type": "execute_result",
          "data": {
            "text/html": [
              "<div>\n",
              "<style scoped>\n",
              "    .dataframe tbody tr th:only-of-type {\n",
              "        vertical-align: middle;\n",
              "    }\n",
              "\n",
              "    .dataframe tbody tr th {\n",
              "        vertical-align: top;\n",
              "    }\n",
              "\n",
              "    .dataframe thead th {\n",
              "        text-align: right;\n",
              "    }\n",
              "</style>\n",
              "<table border=\"1\" class=\"dataframe\">\n",
              "  <thead>\n",
              "    <tr style=\"text-align: right;\">\n",
              "      <th></th>\n",
              "      <th>Unnamed: 0</th>\n",
              "      <th>drugName</th>\n",
              "      <th>condition</th>\n",
              "      <th>review</th>\n",
              "      <th>rating</th>\n",
              "      <th>date</th>\n",
              "      <th>usefulCount</th>\n",
              "    </tr>\n",
              "  </thead>\n",
              "  <tbody>\n",
              "    <tr>\n",
              "      <th>0</th>\n",
              "      <td>163740</td>\n",
              "      <td>Mirtazapine</td>\n",
              "      <td>Depression</td>\n",
              "      <td>\"I&amp;#039;ve tried a few antidepressants over th...</td>\n",
              "      <td>10.0</td>\n",
              "      <td>February 28, 2012</td>\n",
              "      <td>22</td>\n",
              "    </tr>\n",
              "    <tr>\n",
              "      <th>1</th>\n",
              "      <td>206473</td>\n",
              "      <td>Mesalamine</td>\n",
              "      <td>Crohn's Disease, Maintenance</td>\n",
              "      <td>\"My son has Crohn&amp;#039;s disease and has done ...</td>\n",
              "      <td>8.0</td>\n",
              "      <td>May 17, 2009</td>\n",
              "      <td>17</td>\n",
              "    </tr>\n",
              "  </tbody>\n",
              "</table>\n",
              "</div>"
            ],
            "text/plain": [
              "   Unnamed: 0     drugName  ...               date usefulCount\n",
              "0      163740  Mirtazapine  ...  February 28, 2012          22\n",
              "1      206473   Mesalamine  ...       May 17, 2009          17\n",
              "\n",
              "[2 rows x 7 columns]"
            ]
          },
          "metadata": {
            "tags": []
          },
          "execution_count": 6
        }
      ]
    },
    {
      "cell_type": "code",
      "metadata": {
        "id": "DZCJXPZwN8A1"
      },
      "source": [
        "df = train.append(test)\n",
        "df.columns = [\"id\", \"drug\", \"condition\", \"review\", \"rating\", \"date\", \"useful\"]\n",
        "df.drop([\"id\"], axis=1, inplace=True)"
      ],
      "execution_count": 7,
      "outputs": []
    },
    {
      "cell_type": "code",
      "metadata": {
        "colab": {
          "base_uri": "https://localhost:8080/"
        },
        "id": "NjqNz7CCN75n",
        "outputId": "d90180c7-6a2d-4aa9-a5e2-abc03b78f595"
      },
      "source": [
        "print(df.dtypes)\n",
        "print(df.isnull().sum())"
      ],
      "execution_count": 8,
      "outputs": [
        {
          "output_type": "stream",
          "text": [
            "drug          object\n",
            "condition     object\n",
            "review        object\n",
            "rating       float64\n",
            "date          object\n",
            "useful         int64\n",
            "dtype: object\n",
            "drug            0\n",
            "condition    1194\n",
            "review          0\n",
            "rating          0\n",
            "date            0\n",
            "useful          0\n",
            "dtype: int64\n"
          ],
          "name": "stdout"
        }
      ]
    },
    {
      "cell_type": "code",
      "metadata": {
        "id": "o96VXCNeCMRY"
      },
      "source": [
        "df.dropna(inplace=True)"
      ],
      "execution_count": 9,
      "outputs": []
    },
    {
      "cell_type": "code",
      "metadata": {
        "colab": {
          "base_uri": "https://localhost:8080/"
        },
        "id": "aLToLHNhC9vU",
        "outputId": "606186f6-2938-4e73-bafa-7f11878076bf"
      },
      "source": [
        "df.isnull().sum()"
      ],
      "execution_count": 10,
      "outputs": [
        {
          "output_type": "execute_result",
          "data": {
            "text/plain": [
              "drug         0\n",
              "condition    0\n",
              "review       0\n",
              "rating       0\n",
              "date         0\n",
              "useful       0\n",
              "dtype: int64"
            ]
          },
          "metadata": {
            "tags": []
          },
          "execution_count": 10
        }
      ]
    },
    {
      "cell_type": "code",
      "metadata": {
        "colab": {
          "base_uri": "https://localhost:8080/"
        },
        "id": "FGqG5LHyOJAs",
        "outputId": "591ef8e9-bd38-4a6f-cd86-2ada7ba79e10"
      },
      "source": [
        "print(df.shape)"
      ],
      "execution_count": 11,
      "outputs": [
        {
          "output_type": "stream",
          "text": [
            "(213869, 6)\n"
          ],
          "name": "stdout"
        }
      ]
    },
    {
      "cell_type": "code",
      "metadata": {
        "id": "XDahn93m6qCv"
      },
      "source": [
        "blanks = []\n",
        "for i, drug, cond, rv, rt, dt, usf in df.itertuples():\n",
        "    if type(rv) == str:\n",
        "        if rv.isspace():\n",
        "            blanks.append(i)"
      ],
      "execution_count": 12,
      "outputs": []
    },
    {
      "cell_type": "code",
      "metadata": {
        "colab": {
          "base_uri": "https://localhost:8080/"
        },
        "id": "-1Cg3VBCDTvu",
        "outputId": "67aee1e2-0ba6-4626-f1db-ef4f61e93941"
      },
      "source": [
        "blanks"
      ],
      "execution_count": 13,
      "outputs": [
        {
          "output_type": "execute_result",
          "data": {
            "text/plain": [
              "[]"
            ]
          },
          "metadata": {
            "tags": []
          },
          "execution_count": 13
        }
      ]
    },
    {
      "cell_type": "code",
      "metadata": {
        "id": "rVdioSbkDVoo"
      },
      "source": [
        "df['review'].replace(r'&#039;',\"'\", inplace=True, regex=True)"
      ],
      "execution_count": 14,
      "outputs": []
    },
    {
      "cell_type": "code",
      "metadata": {
        "id": "PcJY7NCTD5Mo"
      },
      "source": [
        "df['date'] = pd.to_datetime(df['date'])\n",
        "df['year'] = df['date'].dt.year"
      ],
      "execution_count": 15,
      "outputs": []
    },
    {
      "cell_type": "code",
      "metadata": {
        "colab": {
          "base_uri": "https://localhost:8080/"
        },
        "id": "vqweJaGRSgiw",
        "outputId": "f78aaf03-b8c7-432a-f3bf-5d9d276b44c7"
      },
      "source": [
        "print(df.date.min())\n",
        "print(df.date.max())"
      ],
      "execution_count": 16,
      "outputs": [
        {
          "output_type": "stream",
          "text": [
            "2008-02-24 00:00:00\n",
            "2017-12-12 00:00:00\n"
          ],
          "name": "stdout"
        }
      ]
    },
    {
      "cell_type": "code",
      "metadata": {
        "colab": {
          "base_uri": "https://localhost:8080/"
        },
        "id": "iz5-dAVVSgez",
        "outputId": "b31e99b2-6dde-454f-b05a-9142faa5b70e"
      },
      "source": [
        "print(len(df.drug.value_counts()))\n",
        "print(len(df.condition.value_counts()))"
      ],
      "execution_count": 17,
      "outputs": [
        {
          "output_type": "stream",
          "text": [
            "3667\n",
            "916\n"
          ],
          "name": "stdout"
        }
      ]
    },
    {
      "cell_type": "code",
      "metadata": {
        "colab": {
          "base_uri": "https://localhost:8080/"
        },
        "id": "P-1LF6byS2Xb",
        "outputId": "607da57f-84a6-4118-c1d7-ca81b63139d3"
      },
      "source": [
        "df.drug.value_counts()[:30]"
      ],
      "execution_count": 18,
      "outputs": [
        {
          "output_type": "execute_result",
          "data": {
            "text/plain": [
              "Levonorgestrel                        4896\n",
              "Etonogestrel                          4402\n",
              "Ethinyl estradiol / norethindrone     3619\n",
              "Nexplanon                             2892\n",
              "Ethinyl estradiol / norgestimate      2682\n",
              "Ethinyl estradiol / levonorgestrel    2400\n",
              "Phentermine                           2077\n",
              "Sertraline                            1859\n",
              "Escitalopram                          1739\n",
              "Mirena                                1673\n",
              "Implanon                              1506\n",
              "Gabapentin                            1409\n",
              "Bupropion                             1360\n",
              "Miconazole                            1341\n",
              "Venlafaxine                           1332\n",
              "Citalopram                            1306\n",
              "Medroxyprogesterone                   1273\n",
              "Duloxetine                            1251\n",
              "Lexapro                               1250\n",
              "Bupropion / naltrexone                1241\n",
              "Contrave                              1215\n",
              "Metronidazole                         1205\n",
              "Depo-Provera                          1155\n",
              "Cymbalta                              1142\n",
              "Drospirenone / ethinyl estradiol      1140\n",
              "Clonazepam                            1139\n",
              "Tramadol                              1132\n",
              "Zoloft                                1086\n",
              "Varenicline                           1082\n",
              "Skyla                                 1076\n",
              "Name: drug, dtype: int64"
            ]
          },
          "metadata": {
            "tags": []
          },
          "execution_count": 18
        }
      ]
    },
    {
      "cell_type": "code",
      "metadata": {
        "id": "YLEKUyB7UpQe"
      },
      "source": [
        "df = df.groupby(\"drug\").filter(lambda x: len(x) > 1400)"
      ],
      "execution_count": 19,
      "outputs": []
    },
    {
      "cell_type": "code",
      "metadata": {
        "colab": {
          "base_uri": "https://localhost:8080/"
        },
        "id": "wPZ3VvgaXzUP",
        "outputId": "070857e1-bc83-4754-8bc7-a1291995eae6"
      },
      "source": [
        "df.shape"
      ],
      "execution_count": 20,
      "outputs": [
        {
          "output_type": "execute_result",
          "data": {
            "text/plain": [
              "(31154, 7)"
            ]
          },
          "metadata": {
            "tags": []
          },
          "execution_count": 20
        }
      ]
    },
    {
      "cell_type": "code",
      "metadata": {
        "colab": {
          "base_uri": "https://localhost:8080/"
        },
        "id": "ARKukLFeT4Yq",
        "outputId": "5ca2cbc1-b6e9-400d-9445-76a0a74d632c"
      },
      "source": [
        "for drug in df.drug.unique():\n",
        "  t = df[df[\"drug\"] == drug]\n",
        "  print(f\"The drug {drug} have these conditions:\")\n",
        "  print(t.condition.value_counts())\n",
        "  print(\"\\n\")"
      ],
      "execution_count": 21,
      "outputs": [
        {
          "output_type": "stream",
          "text": [
            "The drug Levonorgestrel have these conditions:\n",
            "Birth Control                2884\n",
            "Emergency Contraception      1651\n",
            "Abnormal Uterine Bleeding     355\n",
            "Not Listed / Othe               6\n",
            "Name: condition, dtype: int64\n",
            "\n",
            "\n",
            "The drug Ethinyl estradiol / levonorgestrel have these conditions:\n",
            "Birth Control                2107\n",
            "Abnormal Uterine Bleeding     145\n",
            "Endometriosis                  74\n",
            "Ovarian Cysts                  33\n",
            "Polycystic Ovary Syndrome      27\n",
            "Premenstrual Syndrome          11\n",
            "Not Listed / Othe               3\n",
            "Name: condition, dtype: int64\n",
            "\n",
            "\n",
            "The drug Nexplanon have these conditions:\n",
            "Birth Control                                 2883\n",
            "8</span> users found this comment helpful.       2\n",
            "2</span> users found this comment helpful.       2\n",
            "4</span> users found this comment helpful.       1\n",
            "0</span> users found this comment helpful.       1\n",
            "1</span> users found this comment helpful.       1\n",
            "3</span> users found this comment helpful.       1\n",
            "9</span> users found this comment helpful.       1\n",
            "Name: condition, dtype: int64\n",
            "\n",
            "\n",
            "The drug Etonogestrel have these conditions:\n",
            "Birth Control    4394\n",
            "Endometriosis       8\n",
            "Name: condition, dtype: int64\n",
            "\n",
            "\n",
            "The drug Sertraline have these conditions:\n",
            "Depression                        663\n",
            "Anxiety and Stress                296\n",
            "Panic Disorde                     271\n",
            "Social Anxiety Disorde            195\n",
            "Obsessive Compulsive Disorde      105\n",
            "Generalized Anxiety Disorde        79\n",
            "Major Depressive Disorde           78\n",
            "Post Traumatic Stress Disorde      67\n",
            "Premenstrual Dysphoric Disorde     36\n",
            "Bipolar Disorde                    32\n",
            "Postpartum Depression              19\n",
            "Borderline Personality Disorde      5\n",
            "Not Listed / Othe                   4\n",
            "Persistent Depressive Disorde       3\n",
            "Trichotillomania                    2\n",
            "Vulvodynia                          2\n",
            "Dissociative Identity Disorde       1\n",
            "Body Dysmorphic Disorde             1\n",
            "Name: condition, dtype: int64\n",
            "\n",
            "\n",
            "The drug Implanon have these conditions:\n",
            "Birth Control                                 1496\n",
            "0</span> users found this comment helpful.       7\n",
            "2</span> users found this comment helpful.       2\n",
            "1</span> users found this comment helpful.       1\n",
            "Name: condition, dtype: int64\n",
            "\n",
            "\n",
            "The drug Ethinyl estradiol / norgestimate have these conditions:\n",
            "Birth Control                2097\n",
            "Acne                          270\n",
            "Abnormal Uterine Bleeding     199\n",
            "Ovarian Cysts                  73\n",
            "Endometriosis                  40\n",
            "Not Listed / Othe               3\n",
            "Name: condition, dtype: int64\n",
            "\n",
            "\n",
            "The drug Mirena have these conditions:\n",
            "Birth Control                                  1320\n",
            "Abnormal Uterine Bleeding                       327\n",
            "0</span> users found this comment helpful.        7\n",
            "2</span> users found this comment helpful.        4\n",
            "8</span> users found this comment helpful.        3\n",
            "6</span> users found this comment helpful.        3\n",
            "5</span> users found this comment helpful.        2\n",
            "4</span> users found this comment helpful.        2\n",
            "3</span> users found this comment helpful.        2\n",
            "19</span> users found this comment helpful.       1\n",
            "21</span> users found this comment helpful.       1\n",
            "7</span> users found this comment helpful.        1\n",
            "Name: condition, dtype: int64\n",
            "\n",
            "\n",
            "The drug Escitalopram have these conditions:\n",
            "Anxiety                           669\n",
            "Depression                        515\n",
            "Generalized Anxiety Disorde       392\n",
            "Major Depressive Disorde           51\n",
            "Obsessive Compulsive Disorde       35\n",
            "Bipolar Disorde                    33\n",
            "ibromyalgia                        15\n",
            "Irritable Bowel Syndrome            8\n",
            "Premenstrual Dysphoric Disorde      8\n",
            "Not Listed / Othe                   5\n",
            "Borderline Personality Disorde      3\n",
            "Body Dysmorphic Disorde             3\n",
            "Trichotillomania                    2\n",
            "Name: condition, dtype: int64\n",
            "\n",
            "\n",
            "The drug Ethinyl estradiol / norethindrone have these conditions:\n",
            "Birth Control                3081\n",
            "Acne                          169\n",
            "Menstrual Disorders           124\n",
            "Abnormal Uterine Bleeding     113\n",
            "Polycystic Ovary Syndrome      62\n",
            "Endometriosis                  56\n",
            "Not Listed / Othe               7\n",
            "Postmenopausal Symptoms         6\n",
            "Gonadotropin Inhibition         1\n",
            "Name: condition, dtype: int64\n",
            "\n",
            "\n",
            "The drug Gabapentin have these conditions:\n",
            "Anxiety                                  260\n",
            "Pain                                     239\n",
            "ibromyalgia                              136\n",
            "Peripheral Neuropathy                    121\n",
            "Neuropathic Pain                          84\n",
            "Bipolar Disorde                           84\n",
            "Migraine                                  76\n",
            "Hot Flashes                               73\n",
            "Restless Legs Syndrome                    68\n",
            "Insomnia                                  63\n",
            "Diabetic Peripheral Neuropathy            37\n",
            "Postherpetic Neuralgia                    36\n",
            "Alcohol Withdrawal                        30\n",
            "Trigeminal Neuralgia                      21\n",
            "Reflex Sympathetic Dystrophy Syndrome     17\n",
            "Not Listed / Othe                         10\n",
            "Epilepsy                                  10\n",
            "Benign Essential Trem                      9\n",
            "Spondylolisthesis                          8\n",
            "Vulvodynia                                 6\n",
            "Occipital Neuralgia                        4\n",
            "Periodic Limb Movement Disorde             3\n",
            "Pruritus                                   3\n",
            "Cough                                      3\n",
            "Small Fiber Neuropathy                     2\n",
            "Nausea/Vomiting, Chemotherapy Induced      1\n",
            "Pudendal Neuralgia                         1\n",
            "Burning Mouth Syndrome                     1\n",
            "Hiccups                                    1\n",
            "Transverse Myelitis                        1\n",
            "Syringomyelia                              1\n",
            "Name: condition, dtype: int64\n",
            "\n",
            "\n",
            "The drug Phentermine have these conditions:\n",
            "Weight Loss          1650\n",
            "Obesity               396\n",
            "Not Listed / Othe      31\n",
            "Name: condition, dtype: int64\n",
            "\n",
            "\n"
          ],
          "name": "stdout"
        }
      ]
    },
    {
      "cell_type": "code",
      "metadata": {
        "colab": {
          "base_uri": "https://localhost:8080/"
        },
        "id": "Asbuw-TGdFHq",
        "outputId": "aba0ac8c-2752-4af0-bf96-cc47272c3edd"
      },
      "source": [
        "df = df[~df[\"condition\"].str.contains(r'</span>')]\n",
        "df.shape"
      ],
      "execution_count": 22,
      "outputs": [
        {
          "output_type": "execute_result",
          "data": {
            "text/plain": [
              "(31109, 7)"
            ]
          },
          "metadata": {
            "tags": []
          },
          "execution_count": 22
        }
      ]
    },
    {
      "cell_type": "code",
      "metadata": {
        "colab": {
          "base_uri": "https://localhost:8080/"
        },
        "id": "QAHe1LVV_ss8",
        "outputId": "0f30f050-c5bb-494e-f5c7-f6b7a4f7a6e6"
      },
      "source": [
        "df.condition.value_counts()"
      ],
      "execution_count": 23,
      "outputs": [
        {
          "output_type": "execute_result",
          "data": {
            "text/plain": [
              "Birth Control                            20262\n",
              "Emergency Contraception                   1651\n",
              "Weight Loss                               1650\n",
              "Depression                                1178\n",
              "Abnormal Uterine Bleeding                 1139\n",
              "Anxiety                                    929\n",
              "Generalized Anxiety Disorde                471\n",
              "Acne                                       439\n",
              "Obesity                                    396\n",
              "Anxiety and Stress                         296\n",
              "Panic Disorde                              271\n",
              "Pain                                       239\n",
              "Social Anxiety Disorde                     195\n",
              "Endometriosis                              178\n",
              "ibromyalgia                                151\n",
              "Bipolar Disorde                            149\n",
              "Obsessive Compulsive Disorde               140\n",
              "Major Depressive Disorde                   129\n",
              "Menstrual Disorders                        124\n",
              "Peripheral Neuropathy                      121\n",
              "Ovarian Cysts                              106\n",
              "Polycystic Ovary Syndrome                   89\n",
              "Neuropathic Pain                            84\n",
              "Migraine                                    76\n",
              "Hot Flashes                                 73\n",
              "Not Listed / Othe                           69\n",
              "Restless Legs Syndrome                      68\n",
              "Post Traumatic Stress Disorde               67\n",
              "Insomnia                                    63\n",
              "Premenstrual Dysphoric Disorde              44\n",
              "Diabetic Peripheral Neuropathy              37\n",
              "Postherpetic Neuralgia                      36\n",
              "Alcohol Withdrawal                          30\n",
              "Trigeminal Neuralgia                        21\n",
              "Postpartum Depression                       19\n",
              "Reflex Sympathetic Dystrophy Syndrome       17\n",
              "Premenstrual Syndrome                       11\n",
              "Epilepsy                                    10\n",
              "Benign Essential Trem                        9\n",
              "Spondylolisthesis                            8\n",
              "Vulvodynia                                   8\n",
              "Borderline Personality Disorde               8\n",
              "Irritable Bowel Syndrome                     8\n",
              "Postmenopausal Symptoms                      6\n",
              "Body Dysmorphic Disorde                      4\n",
              "Occipital Neuralgia                          4\n",
              "Trichotillomania                             4\n",
              "Pruritus                                     3\n",
              "Persistent Depressive Disorde                3\n",
              "Periodic Limb Movement Disorde               3\n",
              "Cough                                        3\n",
              "Small Fiber Neuropathy                       2\n",
              "Nausea/Vomiting, Chemotherapy Induced        1\n",
              "Burning Mouth Syndrome                       1\n",
              "Gonadotropin Inhibition                      1\n",
              "Syringomyelia                                1\n",
              "Hiccups                                      1\n",
              "Transverse Myelitis                          1\n",
              "Dissociative Identity Disorde                1\n",
              "Pudendal Neuralgia                           1\n",
              "Name: condition, dtype: int64"
            ]
          },
          "metadata": {
            "tags": []
          },
          "execution_count": 23
        }
      ]
    },
    {
      "cell_type": "code",
      "metadata": {
        "colab": {
          "base_uri": "https://localhost:8080/"
        },
        "id": "kN8thkwE_tJB",
        "outputId": "67f3b007-f781-426c-f778-ff6680746038"
      },
      "source": [
        "df = df.groupby(\"condition\").filter(lambda x: len(x) > 120)\n",
        "df.shape"
      ],
      "execution_count": 24,
      "outputs": [
        {
          "output_type": "execute_result",
          "data": {
            "text/plain": [
              "(30108, 7)"
            ]
          },
          "metadata": {
            "tags": []
          },
          "execution_count": 24
        }
      ]
    },
    {
      "cell_type": "code",
      "metadata": {
        "id": "5tsr6fSlMfiQ"
      },
      "source": [
        "def sentiment(df):\n",
        "\n",
        "  sid = SentimentIntensityAnalyzer()\n",
        "  \n",
        "  df[\"scores\"] = df[\"review\"].apply(lambda review: sid.polarity_scores(review))\n",
        "  df[\"compound\"] = df[\"scores\"].apply(lambda d: d[\"compound\"])\n",
        "  df[\"comp_score\"] = df[\"compound\"].apply(lambda score: \"positive\" if score >= 0 else \"negative\")"
      ],
      "execution_count": 25,
      "outputs": []
    },
    {
      "cell_type": "code",
      "metadata": {
        "id": "n_eMfZsBMfWy"
      },
      "source": [
        "sentiment(df)"
      ],
      "execution_count": 26,
      "outputs": []
    },
    {
      "cell_type": "code",
      "metadata": {
        "colab": {
          "base_uri": "https://localhost:8080/"
        },
        "id": "6WdOjxvv1h3C",
        "outputId": "4705f646-3840-41ca-9248-26f74354a529"
      },
      "source": [
        "df.rating.value_counts()"
      ],
      "execution_count": 27,
      "outputs": [
        {
          "output_type": "execute_result",
          "data": {
            "text/plain": [
              "10.0    7855\n",
              "9.0     4698\n",
              "1.0     4095\n",
              "8.0     3285\n",
              "5.0     1990\n",
              "7.0     1863\n",
              "2.0     1823\n",
              "3.0     1823\n",
              "6.0     1340\n",
              "4.0     1336\n",
              "Name: rating, dtype: int64"
            ]
          },
          "metadata": {
            "tags": []
          },
          "execution_count": 27
        }
      ]
    },
    {
      "cell_type": "code",
      "metadata": {
        "id": "zSVqERbj2LuN"
      },
      "source": [
        "df[\"rating_score\"] = df[\"rating\"].apply(lambda score: \"positive\" if score >= 7 else \"negative\")"
      ],
      "execution_count": 28,
      "outputs": []
    },
    {
      "cell_type": "code",
      "metadata": {
        "id": "M5Q3cdZN4U4J"
      },
      "source": [
        "df.drop([\"scores\", \"compound\"], axis=1, inplace= True)"
      ],
      "execution_count": 29,
      "outputs": []
    },
    {
      "cell_type": "code",
      "metadata": {
        "colab": {
          "base_uri": "https://localhost:8080/"
        },
        "id": "ygX1xieN2PD0",
        "outputId": "8f6272c1-05cd-4e56-a558-914c8f975d9b"
      },
      "source": [
        "print(metrics.confusion_matrix(df[\"rating_score\"], df[\"comp_score\"]))"
      ],
      "execution_count": 30,
      "outputs": [
        {
          "output_type": "stream",
          "text": [
            "[[ 8445  3962]\n",
            " [ 7268 10433]]\n"
          ],
          "name": "stdout"
        }
      ]
    },
    {
      "cell_type": "code",
      "metadata": {
        "colab": {
          "base_uri": "https://localhost:8080/"
        },
        "id": "dXcqFpQp2PAN",
        "outputId": "03cceb03-97c2-4de3-8ded-f47728d87d99"
      },
      "source": [
        "print(metrics.classification_report(df[\"rating_score\"], df[\"comp_score\"]))"
      ],
      "execution_count": 31,
      "outputs": [
        {
          "output_type": "stream",
          "text": [
            "              precision    recall  f1-score   support\n",
            "\n",
            "    negative       0.54      0.68      0.60     12407\n",
            "    positive       0.72      0.59      0.65     17701\n",
            "\n",
            "    accuracy                           0.63     30108\n",
            "   macro avg       0.63      0.64      0.63     30108\n",
            "weighted avg       0.65      0.63      0.63     30108\n",
            "\n"
          ],
          "name": "stdout"
        }
      ]
    },
    {
      "cell_type": "code",
      "metadata": {
        "id": "Ji-s8nBL4l8-"
      },
      "source": [
        "random_indices = []\n",
        "\n",
        "for i in range(0,19):\n",
        "  n = random.randint(0, len(df))\n",
        "  random_indices.append(n)"
      ],
      "execution_count": 32,
      "outputs": []
    },
    {
      "cell_type": "code",
      "metadata": {
        "colab": {
          "base_uri": "https://localhost:8080/"
        },
        "id": "Bg9iQKlg5Qao",
        "outputId": "3787dbe0-6492-4cd4-9120-c96c45527133"
      },
      "source": [
        "for review in random_indices: \n",
        "  print(\"Sentiment Analysis:\", df.comp_score.iloc[review])\n",
        "  print(\"Rating Score\", df.rating_score.iloc[review])\n",
        "  print(df.review.iloc[review])\n",
        "  print(\"\\n\")"
      ],
      "execution_count": 33,
      "outputs": [
        {
          "output_type": "stream",
          "text": [
            "Sentiment Analysis: negative\n",
            "Rating Score positive\n",
            "\"I've had Nexplanon for 2 years now and it has been wonderful. My doctor numbed my arm when I got it implanted so there was no physical pain. My arm was a tad sore after the numbing medication wore off, but only for a day or two at most. The soreness wasn't anything serious either. I didn't have any physical side effects from the implant at all. I did not gain weight, I did not get acne, my hair didn't get more oily, and I didn't cramp. After about a month of having it in, my period was due and I bled a little longer than usual. After bleeding for about 11 days, I spotted for about 7 more days. After that month of bleeding and spotting, I haven't had a period since. I am engaged and my fiance finished inside of me, I have not gotten pregnant\"\n",
            "\n",
            "\n",
            "Sentiment Analysis: positive\n",
            "Rating Score positive\n",
            "\"I've been on Lexapro 10mg for 5 years now and it makes me &quot;me&quot; again.  It's wonderful! I've never had a side effect.  I've also lost 90 pounds!  I was eating because of the stress and depression and when that started to go away so did the overeating! I started to feel a lot better.  It took about 4-5 weeks for it to kick in and I had to chart my progress through my doctor but I am truly thankful. \"\n",
            "\n",
            "\n",
            "Sentiment Analysis: positive\n",
            "Rating Score positive\n",
            "\"I just got my mirena inserted yesterday and so far I feel fine. I am 20, and I have a son. The insertion wasn't very painful, though the cramps afterward were a little uncomfortable (nothing that some ibuprofen can't fix). My husband and I haven't had sex yet so I don't know if it'll affect us yet. Still bleeding a little, but nothing serious. I don't know if this review was helpful, but I'll definitely give an update within the next 6 months.\"\n",
            "\n",
            "\n",
            "Sentiment Analysis: negative\n",
            "Rating Score positive\n",
            "\"i recently went to see a doctor for weight loss! Before I even had a minute to fill out my paper on my history, he asks me what kind of pills I want? I was like (huh?), then he explained about adipex, when I say explained, all he said was take it once a day, diet , come see me in 30 days! I thought this was crazy, he told me to bring back my paper work Monday! ANYWAY, I took it as he prescribed one a day, for only two days and have to stop! I am a recovering alcoholic /addict, this crap gave me the exact same feeling as meth, in which I have not used in 15 years. I was high!! I cannot jeopardize my sobriety so I guess I'll stay fat! But this doctor maybe should have took 5 minutes with me to explain or ask something about me!\"\n",
            "\n",
            "\n",
            "Sentiment Analysis: negative\n",
            "Rating Score negative\n",
            "\"Had unprotected sex stupidly one night with my boyfriend. Less than 9 hrs later I went to the local pharmacy to obtain the Plan B morning after pill. Took it accordingly, with no side effects and patiently waited for my period. My period never did come, and I ended up pregnant. At 12 weeks I ended up having a miscarriage, but I certainly learned my lesson. Use protection always ladies, sometimes these things don't work!\"\n",
            "\n",
            "\n",
            "Sentiment Analysis: positive\n",
            "Rating Score positive\n",
            "\"I've been taking Lutera for a year and I'm also a first timer. It works great, I used to get very heavy periods with mild cramps almost everyday. Now with Lutera I get lighter periods and almost no cramps. My only side effects are nausea and my fiance has told me that my breasts are looking much bigger. I have noticed that sometimes I eat too much and sometimes too little. My sex drive to be honest is normal. I would definitely recommend Lutera.\"\n",
            "\n",
            "\n",
            "Sentiment Analysis: negative\n",
            "Rating Score positive\n",
            "\"Sertraline has been a life-saver for me. I started getting panic attacks just after Christmas and had probably been mildly depressed for a year or so. I'd also started to become anxious all the time and convinced myself that I was on the verge of a Heart Attack. Basically, I could go for a whole day with stomach or chest tightness fighting back tears and desperately trying to cling on to a sense of normality.\r\r\n",
            "Antidepressants was the only option I hadn't tried but it ended up really working well for me. The first 2 weeks were really hard as the drug makes you worse before it makes you better but if you stick with it, the Zombie-like state passes and I would say after 3 weeks I was 50% back-to-normal, 4 weeks 80&amp; and 6 weeks 100%.\"\n",
            "\n",
            "\n",
            "Sentiment Analysis: positive\n",
            "Rating Score negative\n",
            "\"I had this inserted in October 2013 after consulting with my doctor, who pushed it for the convenience. Insertion was quick and painless, with minor stinging. The first 2 months were AWFUL with acne, depression, crying, and mood swings, which stabilized once I recognized the cause. Months 4 to 6 were even worse because I would not stop bleeding. Numerous times I wanted it removed, but my doctor told me to give my body 6 months to adjust. Finally after almost 10 months my body is doing better. Bleeding has stopped for 6 weeks and counting although I am fighting slight weight gain of 3 to 5 pounds. Yes, you cannot beat the convenience, but you need to seriously consider the side effects because they were unbearable many times for me.\"\n",
            "\n",
            "\n",
            "Sentiment Analysis: positive\n",
            "Rating Score negative\n",
            "\"I've had Nexplanon back in highschool, it was amazing. I lost weight, I didn't get my period and it was good to me. After the 3 years I switched to the pill and got pregnant, after I had my baby, I got back on the nexplanon and now its a totally different story. I gained about 10+ pounds in 8 months, haven't had a period til 8 months in and its been on going for over a week.\"\n",
            "\n",
            "\n",
            "Sentiment Analysis: positive\n",
            "Rating Score negative\n",
            "\"This birth control has been very effective and not having to take it daily/weekly/monthly has been good. \r\n",
            "\r\n",
            "I've had it for nearly 2 years and may have had two months combined without bleeding during that time. I've had heavy spotting since beginning it, more like a moderate period than spotting, ie Warrants the constant use of tampons and liners. It's been effective at preventing pregnancy as I've not been able to have sex for the majority of the time as the flow is too heavy. \r\n",
            "\r\n",
            "The implant has been highly visible in my arm since implantation, so everyone can see I have it if I wear short sleeves. I am fairly thin, and I would have taken this into consideration more had I known. \r\n",
            "\r\n",
            "Looking for alternatives.\"\n",
            "\n",
            "\n",
            "Sentiment Analysis: negative\n",
            "Rating Score positive\n",
            "\"I got my skyla inserted last Thursday April 23, 2015 today it's been a week after insertion. Placing the skyla was an intense pain for myself. Lots of craming and pressure which was very uncomfortable. After the insertion I had craps very mild but cramps for the first few days. 3 days after insertion I had really bad cramps and I had to take medication to relieve the pain. Today marks a week I've been spotting none stop which is annoying, but w/e that's a common side effect. The only thing I can say is that as soon as they inserted skyla I've lost my appetite (completely). I spend hours without eating and I don't get nauseous or dizzy which is very not like me. I force myself to eat, because I know I have too\"\n",
            "\n",
            "\n",
            "Sentiment Analysis: negative\n",
            "Rating Score positive\n",
            "\"I just started Lexapro a week and a half ago.  I noticed results almost immediately.  The only side effect I encountered was a slight light-headed feeling that has since subsided for the most part.  I have felt like hell and have been struggling with anxiety/depression for the past six years without medication.  This stuff has literally saved my life.  I feel like my old self again.  My only regret is that I didn't try it sooner.\"\n",
            "\n",
            "\n",
            "Sentiment Analysis: positive\n",
            "Rating Score positive\n",
            "\"I'm still on my first pack. I got it for irregular periods and for birth control. My boyfriend says my moods are way worse than they ever were before and my mood swings are pretty bad sometimes. Plus when I did have my period before it lasted a week tops now its like 2 weeks and spotting even a week or two after or before. But it never made me sick like my friends and I didn't get any rashes.\"\n",
            "\n",
            "\n",
            "Sentiment Analysis: negative\n",
            "Rating Score positive\n",
            "\"I've been on Sprintec for about 9 months now. I really recommend this oral contraceptive. Not only is it incredibly cheap, but it sort of helps me communicate with my body. Weird I know. I use to have irregular periods, now I have regular periods every month and I can tell by my body exactly when my period will come on. Periods are fair, the normal slight cramps, nothing extreme, the usual, then I'm back to to normal. My breast get larger before and during my period, again they go back to normal afterwards. No major mood swings or thoughts of suicide, no weight gain...actually this pill helps suppress my appetite, so I don't eat as much. Everyone's body is different, but I like this pill.\"\n",
            "\n",
            "\n",
            "Sentiment Analysis: negative\n",
            "Rating Score negative\n",
            "\"On January 13, 2008 I had my Mirena inserted.  It was painless and I had no cramping in the days to follow.  What I did have was 8 SOLID months of spotting.  Enough to need a light tampon while I was awake and a pad while I slept.  All the while my depression got worse, my face broke out, I lost my libido, I gained weight and my stomach bloated. I gained a total of 30 pounds between 1/13/08 and 8/09. July '09 is when I started lactating...a new side effect of the Mirena.  On 8/16/09 I had my Mirena removed and it was the best thing I've ever done, painless and within a week most of my symptoms were almost totally gone.  I'm still lactating and have to lose about 10 more pounds.  At least it did it's job preventing pregnancy.\"\n",
            "\n",
            "\n",
            "Sentiment Analysis: negative\n",
            "Rating Score negative\n",
            "\"I got my implant in September 2014. In the beginning, I experienced irregular periods, but nothing too alarming. Things started to get bad towards the end of January 2015. I started gaining weight, tired all the time, and my sex drive is almost non existent! I've gained 23lbs since then, and no matter how hard I try, I can't lose it, and just keep getting heavier. I have a ridiculously large appetite, and my acne has become painful and very obvious. I'm not myself anymore. When I'm not working (which I do every day, very physically active job), all I want to do is lay down and do nothing. I never used to be like this. I'm bleeding almost constantly, and my memory is shot. I want this thing out!\"\n",
            "\n",
            "\n",
            "Sentiment Analysis: positive\n",
            "Rating Score positive\n",
            "\"Started adipex 15mg once per day on 6/8/15, starting weight 214lbs. Weigh in on 6/22/15 was 203lbs. I'm satisfied with this medicine &amp; I will continue to take it until I reach my weight goal. My dr advised me that I need to take it everyday for 3 weeks &amp; then take a week off so that I don't become intolerant of it. Side effects are minimal.  Really thirsty &amp; sometimes I dnt sleep too good.\"\n",
            "\n",
            "\n",
            "Sentiment Analysis: positive\n",
            "Rating Score positive\n",
            "\"I got Implanon implanted in November 2013. It is now April 2014. I LOVE this product. The only side effect I had was that I bleed for almost 3 months straight. But now I am having periods less than once a month. It seems like it is going to stop all together. The heavy bleeding to start is normal, your body has to sort out the new hormones. I had been on the pill for about 10 years. I switched because of the effectiveness of this product and I got tired of taking pills. I will get this product again when the 3 years are up.\"\n",
            "\n",
            "\n",
            "Sentiment Analysis: negative\n",
            "Rating Score positive\n",
            "\"I have had the Nexplanon since October '14. I have to say I love and hate it at the same time. My first 3 months were hellish, with mood swings and depression. I can't say if I bled much during this time. I have extremely irregular periods (like maybe 3-4 a year). I did gain about 10 pounds but have been overweight to begin with so I didn't notice it much. The mood swings and depression were so bad I did contemplate taking it out. But now that I gotten past those months I love it! My emotions have gotten back under control. I have no bleeding. I can still tell when a &quot;period&quot; is coming on. I will still get the weird sweet/salty craving that I had normally, but no cramps or blood. Each body is different.\"\n",
            "\n",
            "\n"
          ],
          "name": "stdout"
        }
      ]
    },
    {
      "cell_type": "code",
      "metadata": {
        "id": "kUZk7TYT5QXW"
      },
      "source": [
        "# 7/20 differents scores \n",
        "# 6/7 favouring rating score\n",
        "# 1/7 favouring sentiment score\n",
        "\n",
        "# Word ambiguity and negation detection"
      ],
      "execution_count": 34,
      "outputs": []
    },
    {
      "cell_type": "code",
      "metadata": {
        "id": "PwHu13xfMfTG"
      },
      "source": [
        "def LDA(df, n_components, min_df, max_df):\n",
        "\n",
        "  cv = CountVectorizer(min_df=min_df, max_df=max_df, stop_words=\"english\")\n",
        "  dtm = cv.fit_transform(df[\"review\"])\n",
        "  LDA = LatentDirichletAllocation(n_components=n_components).fit(dtm)\n",
        "\n",
        "  for index, topic in enumerate(LDA.components_):\n",
        "    print(f\"THE TOP 20 WORDS FOR TOPIC #{index}\")\n",
        "    print([cv.get_feature_names()[i] for i in topic.argsort()[-20:]])\n",
        "    print(\"\\n\")"
      ],
      "execution_count": 35,
      "outputs": []
    },
    {
      "cell_type": "code",
      "metadata": {
        "id": "iEGi1LVyjS8c"
      },
      "source": [
        "def NNMF(df, n_components, min_df, max_df):\n",
        "\n",
        "  tfidf = TfidfVectorizer(min_df=min_df, max_df=max_df, stop_words=\"english\")\n",
        "  dtm = tfidf.fit_transform(df[\"review\"])\n",
        "  nmf_model = NMF(n_components=n_components).fit(dtm)\n",
        "\n",
        "  for index, topic in enumerate(nmf_model.components_):\n",
        "    print(f\"THE TOP 20 WORDS FOR TOPIC #{index}\")\n",
        "    print([tfidf.get_feature_names()[i] for i in topic.argsort()[-20:]])\n",
        "    print(\"\\n\")"
      ],
      "execution_count": 36,
      "outputs": []
    },
    {
      "cell_type": "code",
      "metadata": {
        "colab": {
          "base_uri": "https://localhost:8080/"
        },
        "id": "kj-2uzL__nY2",
        "outputId": "0b876954-72dd-4cc7-cdd5-d29d7ca9ddc2"
      },
      "source": [
        "df.condition.value_counts()"
      ],
      "execution_count": 37,
      "outputs": [
        {
          "output_type": "execute_result",
          "data": {
            "text/plain": [
              "Birth Control                   20262\n",
              "Emergency Contraception          1651\n",
              "Weight Loss                      1650\n",
              "Depression                       1178\n",
              "Abnormal Uterine Bleeding        1139\n",
              "Anxiety                           929\n",
              "Generalized Anxiety Disorde       471\n",
              "Acne                              439\n",
              "Obesity                           396\n",
              "Anxiety and Stress                296\n",
              "Panic Disorde                     271\n",
              "Pain                              239\n",
              "Social Anxiety Disorde            195\n",
              "Endometriosis                     178\n",
              "ibromyalgia                       151\n",
              "Bipolar Disorde                   149\n",
              "Obsessive Compulsive Disorde      140\n",
              "Major Depressive Disorde          129\n",
              "Menstrual Disorders               124\n",
              "Peripheral Neuropathy             121\n",
              "Name: condition, dtype: int64"
            ]
          },
          "metadata": {
            "tags": []
          },
          "execution_count": 37
        }
      ]
    },
    {
      "cell_type": "code",
      "metadata": {
        "colab": {
          "base_uri": "https://localhost:8080/"
        },
        "id": "2E7aK67qRMd_",
        "outputId": "1d6749a4-2152-40d6-dee0-057e7d328e81"
      },
      "source": [
        "LDA(df.loc[(df[\"rating_score\"] == \"negative\")], 12, 3, 0.6)"
      ],
      "execution_count": 38,
      "outputs": [
        {
          "output_type": "stream",
          "text": [
            "THE TOP 20 WORDS FOR TOPIC #0\n",
            "['years', 'spotting', 'like', 'bad', 'got', 'days', 'bleeding', 'removed', 'weeks', 'day', 'skyla', 'cramps', 'inserted', 'painful', 'rsquo', 'iud', 'pain', 'cramping', 'insertion', 'mirena']\n",
            "\n",
            "\n",
            "THE TOP 20 WORDS FOR TOPIC #1\n",
            "['stomach', 'feeling', 'pills', 'just', 'having', 'bad', 'sprintec', 'night', 'pack', 'started', 'time', 'years', 'like', 'nausea', 'stopped', 'bleeding', 'months', 've', 'month', 'taking']\n",
            "\n",
            "\n",
            "THE TOP 20 WORDS FOR TOPIC #2\n",
            "['weight', 'swings', 'time', 'depression', 'getting', 'years', 'mood', 'year', 'bleeding', 've', 'control', 'birth', 'effects', 'got', 'implanon', 'having', 'implant', 'removed', 'nexplanon', 'months']\n",
            "\n",
            "\n",
            "THE TOP 20 WORDS FOR TOPIC #3\n",
            "['inserted', 'lower', 'ago', 'horrible', 'went', 'day', 'mirena', 've', 'got', 'days', 'don', 'doctor', 'felt', 'insertion', 'bad', 'cramps', 'just', 'like', 'feel', 'pain']\n",
            "\n",
            "\n",
            "THE TOP 20 WORDS FOR TOPIC #4\n",
            "['test', 'didn', 'time', 'pregnancy', 'just', 'work', 'went', 'got', 'later', 'period', 'plan', 'pain', 'hours', 'day', 'quot', 'blood', 'pregnant', 'pill', 'took', 'amp']\n",
            "\n",
            "\n",
            "THE TOP 20 WORDS FOR TOPIC #5\n",
            "['chin', 'really', 'went', 'just', 'week', 'cystic', 'worse', 'bad', 'clear', 'got', 'month', 'hair', 'taking', 'months', 've', 'started', 'face', 'skin', 'pill', 'acne']\n",
            "\n",
            "\n",
            "THE TOP 20 WORDS FOR TOPIC #6\n",
            "['body', 'got', 'week', 'effects', 'mirena', 'want', 'going', 'cyclen', 'quot', 'ortho', 'months', 'just', 'tri', 'feel', 'drive', 'don', 'time', 'like', 've', 'sex']\n",
            "\n",
            "\n",
            "THE TOP 20 WORDS FOR TOPIC #7\n",
            "['week', 'pills', 'effects', 'switched', 'just', 'acne', 'time', 'feel', 'period', 'like', 'started', 'swings', 'month', 'mood', 'months', 'taking', 've', 'pill', 'birth', 'control']\n",
            "\n",
            "\n",
            "THE TOP 20 WORDS FOR TOPIC #8\n",
            "['birth', 'pill', 'doctor', 'cramps', 'just', 've', 'day', 'stop', 'periods', 'started', 'spotting', 'week', 'heavy', 'got', 'weeks', 'month', 'days', 'months', 'period', 'bleeding']\n",
            "\n",
            "\n",
            "THE TOP 20 WORDS FOR TOPIC #9\n",
            "['implant', 'having', 'eat', 'time', 'removed', 'getting', 'lose', 'just', 'years', 'lost', 'period', 'year', 'lbs', 'got', 'months', 've', 'pounds', 'gain', 'gained', 'weight']\n",
            "\n",
            "\n",
            "THE TOP 20 WORDS FOR TOPIC #10\n",
            "['ve', 'took', 'attacks', 'zoloft', 'feeling', 'weeks', 'sleep', 'days', 'panic', 'just', 'like', 'medication', 'effects', 'felt', 'started', 'depression', 'feel', 'taking', 'day', 'anxiety']\n",
            "\n",
            "\n",
            "THE TOP 20 WORDS FOR TOPIC #11\n",
            "['bad', 'really', 'year', 'bleeding', 'spotting', 'implanon', 'like', 'time', 'pregnant', 'month', 'getting', 'periods', 'drive', 've', 'got', 'swings', 'mood', 'months', 'period', 'sex']\n",
            "\n",
            "\n"
          ],
          "name": "stdout"
        }
      ]
    },
    {
      "cell_type": "code",
      "metadata": {
        "colab": {
          "base_uri": "https://localhost:8080/"
        },
        "id": "RPs9Zg7vUujd",
        "outputId": "9ec0e15d-4156-4690-f896-7e645c43abaf"
      },
      "source": [
        "NNMF(df.loc[(df[\"rating_score\"] == \"negative\")], 12, 3, 0.6)"
      ],
      "execution_count": 39,
      "outputs": [
        {
          "output_type": "stream",
          "text": [
            "THE TOP 20 WORDS FOR TOPIC #0\n",
            "['pack', 'second', 'time', 'normal', 'day', 'just', 'lasted', 'months', 'periods', 'got', 'light', 'cramps', 'heavy', 'started', 'weeks', 'week', 'spotting', 'days', 'month', 'period']\n",
            "\n",
            "\n",
            "THE TOP 20 WORDS FOR TOPIC #1\n",
            "['blood', 'breakthrough', 'inserted', 'constant', 'started', 'bled', 'spotting', 'week', 'straight', 'day', 'doctor', 'bleed', 'days', 'weeks', 'non', 'stopped', 'heavy', 'months', 'stop', 'bleeding']\n",
            "\n",
            "\n",
            "THE TOP 20 WORDS FOR TOPIC #2\n",
            "['inserted', 'horrible', 'periods', 'thing', '2015', 'years', 'time', 'arm', 'year', 'pregnant', 'months', 'having', 'getting', 'removed', 'implanon', 'swings', 'mood', 'implant', 'nexplanon', 'got']\n",
            "\n",
            "\n",
            "THE TOP 20 WORDS FOR TOPIC #3\n",
            "['attacks', 'don', 'really', 'sleep', 'better', 'zoloft', 'panic', 'time', 'effects', 'feeling', 'medication', 'started', 'just', 'day', 'depression', 'felt', 'taking', 'like', 'feel', 'anxiety']\n",
            "\n",
            "\n",
            "THE TOP 20 WORDS FOR TOPIC #4\n",
            "['effective', 'controls', 'time', 'mood', 'switched', 'different', 'taken', 'good', 'don', 'doctor', 'years', 'taking', 'form', 'recommend', 'periods', 'months', 'pills', 'worst', 'birth', 'control']\n",
            "\n",
            "\n",
            "THE TOP 20 WORDS FOR TOPIC #5\n",
            "['moody', 'noticed', 'bad', 'thing', 'll', 'like', 'just', 'lot', 'worst', 'months', 'feel', 'hate', 'cramps', 'don', 'gotten', 'really', 'getting', 'haven', 'gained', 've']\n",
            "\n",
            "\n",
            "THE TOP 20 WORDS FOR TOPIC #6\n",
            "['periods', 'hurt', 'ago', 'day', 'severe', 'years', 'quot', 'got', 'removed', 'bad', 'having', 'skyla', 'inserted', 'iud', 'cramping', 'cramps', 'painful', 'insertion', 'mirena', 'pain']\n",
            "\n",
            "\n",
            "THE TOP 20 WORDS FOR TOPIC #7\n",
            "['periods', 'effects', 'fe', 'pack', 'cramps', 'experienced', 'loestrin', 'pregnant', 'switching', 'started', 'horrible', 'swings', 'nausea', 'mood', 'pills', 'month', 'switched', 'took', 'taking', 'pill']\n",
            "\n",
            "\n",
            "THE TOP 20 WORDS FOR TOPIC #8\n",
            "['healthy', 'eating', 'lot', '15', 'months', 'did', '10', 'eat', 'diet', 'years', '20', 'gaining', 'year', 'lost', 'lose', 'lbs', 'pounds', 'gained', 'gain', 'weight']\n",
            "\n",
            "\n",
            "THE TOP 20 WORDS FOR TOPIC #9\n",
            "['like', 'zero', 'thing', 'dryness', 'husband', 'moody', 'bleed', 'decreased', 'plan', 'gone', 'time', 'boyfriend', 'pregnancy', 'completely', 'low', 'don', 'want', 'pregnant', 'drive', 'sex']\n",
            "\n",
            "\n",
            "THE TOP 20 WORDS FOR TOPIC #10\n",
            "['break', 'lo', 'cheeks', 'forehead', 'cleared', 'breakouts', 'horrible', 'months', 'hair', 'tri', 'pimples', 'started', 'chin', 'worse', 'bad', 'clear', 'cystic', 'face', 'skin', 'acne']\n",
            "\n",
            "\n",
            "THE TOP 20 WORDS FOR TOPIC #11\n",
            "['sick', 'taken', 'didn', 'nexplanon', 'told', 'blood', '2016', 'periods', 'headaches', 'days', 'pills', 'month', 'new', 'went', 'heavy', 'nausea', 'dr', 'bc', 'quot', 'amp']\n",
            "\n",
            "\n"
          ],
          "name": "stdout"
        }
      ]
    },
    {
      "cell_type": "code",
      "metadata": {
        "id": "rgk0tYaUMZEy"
      },
      "source": [
        "# LDA more meaningful outputs"
      ],
      "execution_count": 40,
      "outputs": []
    },
    {
      "cell_type": "code",
      "metadata": {
        "id": "WiZ8wbZBMZCH"
      },
      "source": [
        "negative = df.loc[(df[\"rating_score\"] == \"negative\")]\n",
        "positive = df.loc[(df[\"rating_score\"] == \"positive\")]"
      ],
      "execution_count": 41,
      "outputs": []
    },
    {
      "cell_type": "code",
      "metadata": {
        "colab": {
          "base_uri": "https://localhost:8080/"
        },
        "id": "8Ts9iGu7M_5S",
        "outputId": "2022900e-aa1a-4d61-a502-ba5236baf586"
      },
      "source": [
        "cv = CountVectorizer(min_df=3, max_df=0.7, stop_words=\"english\")\n",
        "dtm = cv.fit_transform(negative[\"review\"])\n",
        "LDA = LatentDirichletAllocation(n_components=12).fit(dtm)\n",
        "\n",
        "for index, topic in enumerate(LDA.components_):\n",
        "  print(f\"THE TOP 20 WORDS FOR TOPIC #{index}\")\n",
        "  print([cv.get_feature_names()[i] for i in topic.argsort()[-20:]])\n",
        "  print(\"\\n\")"
      ],
      "execution_count": 42,
      "outputs": [
        {
          "output_type": "stream",
          "text": [
            "THE TOP 20 WORDS FOR TOPIC #0\n",
            "['don', 'just', 'diet', 'eating', 'years', 'getting', 'eat', 'lost', 'lose', 'year', 'got', 'lbs', 'birth', 'control', 'months', 've', 'pounds', 'gain', 'gained', 'weight']\n",
            "\n",
            "\n",
            "THE TOP 20 WORDS FOR TOPIC #1\n",
            "['getting', 'pregnancy', 'life', 'sex', 'having', 'depressed', 'swings', 'pill', 'took', 'got', 'just', 'time', 'pregnant', 'mood', 've', 'don', 'like', 'feel', 'birth', 'control']\n",
            "\n",
            "\n",
            "THE TOP 20 WORDS FOR TOPIC #2\n",
            "['bad', 'sprintec', 'just', 'years', 'swings', 'effects', 'tri', 'skin', 'mood', 'week', 'switched', 'started', 'month', 'months', 'taking', 'birth', 'control', 'pill', 'acne', 've']\n",
            "\n",
            "\n",
            "THE TOP 20 WORDS FOR TOPIC #3\n",
            "['hair', 'gained', 'time', 'nexplanon', 'having', 'acne', 'got', 'years', 'year', 'gain', 'removed', 'periods', 'implanon', 'months', 'weight', 've', 'drive', 'swings', 'mood', 'sex']\n",
            "\n",
            "\n",
            "THE TOP 20 WORDS FOR TOPIC #4\n",
            "['blood', 'stop', 'pill', 'cramps', 'week', 'spotting', 'started', 'having', 'inserted', 've', 'day', 'weeks', 'mirena', 'periods', 'period', 'month', 'days', 'heavy', 'months', 'bleeding']\n",
            "\n",
            "\n",
            "THE TOP 20 WORDS FOR TOPIC #5\n",
            "['having', 'years', 'depression', 'removed', 'really', 'like', 'drive', 'thing', 'nexplanon', 've', 'getting', 'got', 'time', 'bleeding', 'hair', 'day', 'months', 'life', 'implant', 'sex']\n",
            "\n",
            "\n",
            "THE TOP 20 WORDS FOR TOPIC #6\n",
            "['periods', 'sex', 'stop', 'getting', 'just', 'time', 'nexplanon', 'started', 've', 'control', 'birth', 'week', 'spotting', 'weeks', 'days', 'month', 'got', 'months', 'bleeding', 'period']\n",
            "\n",
            "\n",
            "THE TOP 20 WORDS FOR TOPIC #7\n",
            "['having', 'went', 'months', 'bleeding', 'day', 'just', 'doctor', 'like', 'bad', 'skyla', 'removed', 'inserted', 'cramping', 'cramps', 'painful', 'iud', 'got', 'insertion', 'mirena', 'pain']\n",
            "\n",
            "\n",
            "THE TOP 20 WORDS FOR TOPIC #8\n",
            "['time', 'work', 'swings', 'having', 'extreme', 'effects', 'medication', 'pain', 'drug', 'life', 'did', 'months', 'mood', 'attacks', 'panic', 'severe', 'depression', 'anxiety', 'quot', 'amp']\n",
            "\n",
            "\n",
            "THE TOP 20 WORDS FOR TOPIC #9\n",
            "['control', 'day', 'week', 'didn', 'bc', 'did', 'cramps', 'skin', 'got', 'just', 'periods', 'time', 'like', 'started', 'month', 'acne', 'taking', 'period', 'months', 'pill']\n",
            "\n",
            "\n",
            "THE TOP 20 WORDS FOR TOPIC #10\n",
            "['reacts', 'constant', 'really', 'weeks', 'severe', 'differently', 'know', 'week', 'time', 'medication', 'reviews', 'took', 'don', 'felt', 'feel', 'bad', 'quot', 'like', 'pain', 'rsquo']\n",
            "\n",
            "\n",
            "THE TOP 20 WORDS FOR TOPIC #11\n",
            "['zoloft', 've', 'sleep', 'depression', 'feeling', 'medication', 'night', 'week', 'took', 'weeks', 'days', 'just', 'like', 'felt', 'effects', 'feel', 'started', 'anxiety', 'day', 'taking']\n",
            "\n",
            "\n"
          ],
          "name": "stdout"
        }
      ]
    },
    {
      "cell_type": "code",
      "metadata": {
        "colab": {
          "base_uri": "https://localhost:8080/"
        },
        "id": "k-Zn-cQyOKDe",
        "outputId": "883ce95e-e3ac-4e01-9444-db8602d07006"
      },
      "source": [
        "topic_results = LDA.transform(dtm) \n",
        "\n",
        "negative[\"Topic\"] = topic_results.argmax(axis=1)\n",
        "\n",
        "topics_dictionary = {0: \"pressure_heart_energy\", 1: \"spotting_bleeding\", \n",
        "                     2: \"mood_skin_acne\", 3: \"cramps_painful\", 4: \"weight_hair\",\n",
        "                     5: \"mood_weight\", 6: \"spotting_bleading\", 7: \"pannics_attacks\", \n",
        "                     8: \"painful\", 9: \"bleeding_weight\",\n",
        "                     10: \"anxiety_depression\", 11: \"swings_mood\"}\n",
        "\n",
        "negative[\"Topic_Label\"] = negative[\"Topic\"].map(topics_dictionary)"
      ],
      "execution_count": 43,
      "outputs": [
        {
          "output_type": "stream",
          "text": [
            "/usr/local/lib/python3.7/dist-packages/ipykernel_launcher.py:3: SettingWithCopyWarning: \n",
            "A value is trying to be set on a copy of a slice from a DataFrame.\n",
            "Try using .loc[row_indexer,col_indexer] = value instead\n",
            "\n",
            "See the caveats in the documentation: https://pandas.pydata.org/pandas-docs/stable/user_guide/indexing.html#returning-a-view-versus-a-copy\n",
            "  This is separate from the ipykernel package so we can avoid doing imports until\n",
            "/usr/local/lib/python3.7/dist-packages/ipykernel_launcher.py:11: SettingWithCopyWarning: \n",
            "A value is trying to be set on a copy of a slice from a DataFrame.\n",
            "Try using .loc[row_indexer,col_indexer] = value instead\n",
            "\n",
            "See the caveats in the documentation: https://pandas.pydata.org/pandas-docs/stable/user_guide/indexing.html#returning-a-view-versus-a-copy\n",
            "  # This is added back by InteractiveShellApp.init_path()\n"
          ],
          "name": "stderr"
        }
      ]
    },
    {
      "cell_type": "code",
      "metadata": {
        "colab": {
          "base_uri": "https://localhost:8080/"
        },
        "id": "zUmUszYfOdqO",
        "outputId": "be7ceca3-f27c-4d0f-ac7b-7d2fc2a8f5fc"
      },
      "source": [
        "cv = CountVectorizer(min_df=3, max_df=0.3, stop_words=\"english\")\n",
        "dtm = cv.fit_transform(positive[\"review\"])\n",
        "LDA = LatentDirichletAllocation(n_components=5).fit(dtm)\n",
        "\n",
        "for index, topic in enumerate(LDA.components_):\n",
        "  print(f\"THE TOP 20 WORDS FOR TOPIC #{index}\")\n",
        "  print([cv.get_feature_names()[i] for i in topic.argsort()[-20:]])\n",
        "  print(\"\\n\")"
      ],
      "execution_count": 44,
      "outputs": [
        {
          "output_type": "stream",
          "text": [
            "THE TOP 20 WORDS FOR TOPIC #0\n",
            "['lose', 'diet', 'month', 'just', 'exercise', 'dry', 'eating', 'mouth', 'water', 'pill', 'days', 'phentermine', 'day', 'week', 'eat', 'taking', 'pounds', 'lbs', 'started', 'lost']\n",
            "\n",
            "\n",
            "THE TOP 20 WORDS FOR TOPIC #1\n",
            "['great', 'got', 'year', 'days', 'haven', 'started', 'time', 'sex', 'years', 'swings', 'taking', 'effects', 'gain', 'mood', 'periods', 'acne', 'month', 'birth', 'control', 'pill']\n",
            "\n",
            "\n",
            "THE TOP 20 WORDS FOR TOPIC #2\n",
            "['effects', 'unprotected', 'condom', 'did', 'like', 'pregnant', 'didn', 'came', 'week', 'time', 'later', 'just', 'hours', 'sex', 'plan', 'got', 'day', 'days', 'pill', 'took']\n",
            "\n",
            "\n",
            "THE TOP 20 WORDS FOR TOPIC #3\n",
            "['day', 'bad', 'painful', 'control', 'love', 'cramping', 'days', 'birth', 'cramps', 'periods', 'like', 'bleeding', 'just', 'spotting', 'pain', 'inserted', 'years', 'got', 'mirena', 'insertion']\n",
            "\n",
            "\n",
            "THE TOP 20 WORDS FOR TOPIC #4\n",
            "['time', 'panic', 'pain', 'mg', 'felt', 'medication', 'better', 'zoloft', 'weeks', 'started', 'like', 'years', 'lexapro', 'day', 'taking', 'effects', 'depression', 'life', 'feel', 'anxiety']\n",
            "\n",
            "\n"
          ],
          "name": "stdout"
        }
      ]
    },
    {
      "cell_type": "code",
      "metadata": {
        "colab": {
          "base_uri": "https://localhost:8080/"
        },
        "id": "UVegQ7onOnZd",
        "outputId": "613e43b2-4a86-44db-adb8-5e60c3cc30dc"
      },
      "source": [
        "topic_results = LDA.transform(dtm) \n",
        "\n",
        "positive[\"Topic\"] = topic_results.argmax(axis=1)\n",
        "\n",
        "topics_dictionary = {0: \"only_drink_water\", 1: \"liking_love\", \n",
        "                     2: \"works\", 3: \"better\", 4: \"great\"}\n",
        "                  \n",
        "positive[\"Topic_Label\"] = positive[\"Topic\"].map(topics_dictionary)"
      ],
      "execution_count": 45,
      "outputs": [
        {
          "output_type": "stream",
          "text": [
            "/usr/local/lib/python3.7/dist-packages/ipykernel_launcher.py:3: SettingWithCopyWarning: \n",
            "A value is trying to be set on a copy of a slice from a DataFrame.\n",
            "Try using .loc[row_indexer,col_indexer] = value instead\n",
            "\n",
            "See the caveats in the documentation: https://pandas.pydata.org/pandas-docs/stable/user_guide/indexing.html#returning-a-view-versus-a-copy\n",
            "  This is separate from the ipykernel package so we can avoid doing imports until\n",
            "/usr/local/lib/python3.7/dist-packages/ipykernel_launcher.py:8: SettingWithCopyWarning: \n",
            "A value is trying to be set on a copy of a slice from a DataFrame.\n",
            "Try using .loc[row_indexer,col_indexer] = value instead\n",
            "\n",
            "See the caveats in the documentation: https://pandas.pydata.org/pandas-docs/stable/user_guide/indexing.html#returning-a-view-versus-a-copy\n",
            "  \n"
          ],
          "name": "stderr"
        }
      ]
    },
    {
      "cell_type": "code",
      "metadata": {
        "id": "ifU2xCqwRzPm"
      },
      "source": [
        "df = positive.append(negative)"
      ],
      "execution_count": 46,
      "outputs": []
    },
    {
      "cell_type": "code",
      "metadata": {
        "colab": {
          "base_uri": "https://localhost:8080/",
          "height": 105
        },
        "id": "97OtrxVRTK7v",
        "outputId": "18271eae-079e-4669-f0b8-6adc84831042"
      },
      "source": [
        "df.head(2)"
      ],
      "execution_count": 47,
      "outputs": [
        {
          "output_type": "execute_result",
          "data": {
            "text/html": [
              "<div>\n",
              "<style scoped>\n",
              "    .dataframe tbody tr th:only-of-type {\n",
              "        vertical-align: middle;\n",
              "    }\n",
              "\n",
              "    .dataframe tbody tr th {\n",
              "        vertical-align: top;\n",
              "    }\n",
              "\n",
              "    .dataframe thead th {\n",
              "        text-align: right;\n",
              "    }\n",
              "</style>\n",
              "<table border=\"1\" class=\"dataframe\">\n",
              "  <thead>\n",
              "    <tr style=\"text-align: right;\">\n",
              "      <th></th>\n",
              "      <th>drug</th>\n",
              "      <th>condition</th>\n",
              "      <th>review</th>\n",
              "      <th>rating</th>\n",
              "      <th>date</th>\n",
              "      <th>useful</th>\n",
              "      <th>year</th>\n",
              "      <th>comp_score</th>\n",
              "      <th>rating_score</th>\n",
              "      <th>Topic</th>\n",
              "      <th>Topic_Label</th>\n",
              "    </tr>\n",
              "  </thead>\n",
              "  <tbody>\n",
              "    <tr>\n",
              "      <th>9</th>\n",
              "      <td>Ethinyl estradiol / levonorgestrel</td>\n",
              "      <td>Birth Control</td>\n",
              "      <td>\"I had been on the pill for many years. When m...</td>\n",
              "      <td>8.0</td>\n",
              "      <td>2016-12-08</td>\n",
              "      <td>1</td>\n",
              "      <td>2016</td>\n",
              "      <td>negative</td>\n",
              "      <td>positive</td>\n",
              "      <td>1</td>\n",
              "      <td>liking_love</td>\n",
              "    </tr>\n",
              "    <tr>\n",
              "      <th>22</th>\n",
              "      <td>Etonogestrel</td>\n",
              "      <td>Birth Control</td>\n",
              "      <td>\"Nexplanon does its job. I can have worry free...</td>\n",
              "      <td>9.0</td>\n",
              "      <td>2014-08-11</td>\n",
              "      <td>11</td>\n",
              "      <td>2014</td>\n",
              "      <td>positive</td>\n",
              "      <td>positive</td>\n",
              "      <td>1</td>\n",
              "      <td>liking_love</td>\n",
              "    </tr>\n",
              "  </tbody>\n",
              "</table>\n",
              "</div>"
            ],
            "text/plain": [
              "                                  drug      condition  ... Topic  Topic_Label\n",
              "9   Ethinyl estradiol / levonorgestrel  Birth Control  ...     1  liking_love\n",
              "22                        Etonogestrel  Birth Control  ...     1  liking_love\n",
              "\n",
              "[2 rows x 11 columns]"
            ]
          },
          "metadata": {
            "tags": []
          },
          "execution_count": 47
        }
      ]
    },
    {
      "cell_type": "code",
      "metadata": {
        "id": "xFHMadQvSdtH"
      },
      "source": [
        "x = df[\"review\"]\n",
        "y = df[\"rating_score\"]"
      ],
      "execution_count": 48,
      "outputs": []
    },
    {
      "cell_type": "code",
      "metadata": {
        "id": "2Fhf30vRSdqn"
      },
      "source": [
        "x_train, x_test, y_train, y_test = train_test_split(x, y, test_size=0.20)"
      ],
      "execution_count": 49,
      "outputs": []
    },
    {
      "cell_type": "code",
      "metadata": {
        "colab": {
          "base_uri": "https://localhost:8080/"
        },
        "id": "RzWk-vpRSdms",
        "outputId": "577c2210-cc0b-443d-b8eb-4aabedd500d8"
      },
      "source": [
        "text_clf = Pipeline([(\"tfidf\", TfidfVectorizer()), (\"clf\", LogisticRegression())]).fit(x_train, y_train)\n",
        "predictions = text_clf.predict(x_test)\n",
        "print(metrics.confusion_matrix(y_test, predictions))\n",
        "print(metrics.classification_report(y_test, predictions))"
      ],
      "execution_count": 50,
      "outputs": [
        {
          "output_type": "stream",
          "text": [
            "[[1953  533]\n",
            " [ 434 3102]]\n",
            "              precision    recall  f1-score   support\n",
            "\n",
            "    negative       0.82      0.79      0.80      2486\n",
            "    positive       0.85      0.88      0.87      3536\n",
            "\n",
            "    accuracy                           0.84      6022\n",
            "   macro avg       0.84      0.83      0.83      6022\n",
            "weighted avg       0.84      0.84      0.84      6022\n",
            "\n"
          ],
          "name": "stdout"
        }
      ]
    },
    {
      "cell_type": "code",
      "metadata": {
        "colab": {
          "base_uri": "https://localhost:8080/"
        },
        "id": "0BCc4ovzSdg9",
        "outputId": "8098dcc2-9cda-4a21-89b0-26d7631e16e4"
      },
      "source": [
        "new_review = \"I have been taking for one month the medicine and I feel better, Relief after all the pains and problems\"\n",
        "text_clf.predict([new_review])"
      ],
      "execution_count": 51,
      "outputs": [
        {
          "output_type": "execute_result",
          "data": {
            "text/plain": [
              "array(['positive'], dtype=object)"
            ]
          },
          "metadata": {
            "tags": []
          },
          "execution_count": 51
        }
      ]
    },
    {
      "cell_type": "code",
      "metadata": {
        "id": "AGgmyRJFcY1E"
      },
      "source": [
        "df.drop([\"date\", \"review\", \"useful\", \"Topic\", \"rating\", \"comp_score\"], axis=1, inplace=True)"
      ],
      "execution_count": 52,
      "outputs": []
    },
    {
      "cell_type": "code",
      "metadata": {
        "colab": {
          "base_uri": "https://localhost:8080/",
          "height": 105
        },
        "id": "21omMfVwqLQs",
        "outputId": "9dd1648b-8d2c-44c6-ab6e-1d205be2eadd"
      },
      "source": [
        "df.head(2)"
      ],
      "execution_count": 57,
      "outputs": [
        {
          "output_type": "execute_result",
          "data": {
            "text/html": [
              "<div>\n",
              "<style scoped>\n",
              "    .dataframe tbody tr th:only-of-type {\n",
              "        vertical-align: middle;\n",
              "    }\n",
              "\n",
              "    .dataframe tbody tr th {\n",
              "        vertical-align: top;\n",
              "    }\n",
              "\n",
              "    .dataframe thead th {\n",
              "        text-align: right;\n",
              "    }\n",
              "</style>\n",
              "<table border=\"1\" class=\"dataframe\">\n",
              "  <thead>\n",
              "    <tr style=\"text-align: right;\">\n",
              "      <th></th>\n",
              "      <th>drug</th>\n",
              "      <th>condition</th>\n",
              "      <th>year</th>\n",
              "      <th>rating_score</th>\n",
              "      <th>Topic_Label</th>\n",
              "    </tr>\n",
              "  </thead>\n",
              "  <tbody>\n",
              "    <tr>\n",
              "      <th>9</th>\n",
              "      <td>Ethinyl estradiol / levonorgestrel</td>\n",
              "      <td>Birth Control</td>\n",
              "      <td>2016</td>\n",
              "      <td>positive</td>\n",
              "      <td>liking_love</td>\n",
              "    </tr>\n",
              "    <tr>\n",
              "      <th>22</th>\n",
              "      <td>Etonogestrel</td>\n",
              "      <td>Birth Control</td>\n",
              "      <td>2014</td>\n",
              "      <td>positive</td>\n",
              "      <td>liking_love</td>\n",
              "    </tr>\n",
              "  </tbody>\n",
              "</table>\n",
              "</div>"
            ],
            "text/plain": [
              "                                  drug      condition  ...  rating_score  Topic_Label\n",
              "9   Ethinyl estradiol / levonorgestrel  Birth Control  ...      positive  liking_love\n",
              "22                        Etonogestrel  Birth Control  ...      positive  liking_love\n",
              "\n",
              "[2 rows x 5 columns]"
            ]
          },
          "metadata": {
            "tags": []
          },
          "execution_count": 57
        }
      ]
    },
    {
      "cell_type": "code",
      "metadata": {
        "id": "t-cMS-oNdC8E"
      },
      "source": [
        "levonorgestrel = df[df[\"drug\"]==\"Levonorgestrel\"]\n",
        "etonogestrel = df[df[\"drug\"]==\"Etonogestrel\"]\n",
        "ethinyl_norethindrone = df[df[\"drug\"]==\"Ethinyl estradiol / norethindrone\"]\n",
        "nexplanon = df[df[\"drug\"]==\"Nexplanon\"]\n",
        "ethinyl_norgestimate = df[df[\"drug\"]==\"Ethinyl estradiol / norgestimate\"]\n",
        "eginyl_levonorgestrel = df[df[\"drug\"]==\"Ethinyl estradiol / levonorgestrel\"]\n",
        "phentermine = df[df[\"drug\"]==\"Phentermine\"]\n",
        "sertraline = df[df[\"drug\"]==\"Sertraline\"]\n",
        "escitalopram = df[df[\"drug\"]==\"Escitalopram\"]\n",
        "mirena = df[df[\"drug\"]==\"Mirena\"]\n",
        "implanon = df[df[\"drug\"]==\"Implanon\"]\n",
        "gabapentin = df[df[\"drug\"]==\"Gabapentin\"]"
      ],
      "execution_count": 76,
      "outputs": []
    },
    {
      "cell_type": "code",
      "metadata": {
        "colab": {
          "base_uri": "https://localhost:8080/",
          "height": 1000
        },
        "id": "bTHEYusbdC2Q",
        "outputId": "f98a619c-0827-4d11-8440-58e1322af596"
      },
      "source": [
        "pd.crosstab(levonorgestrel[\"year\"], levonorgestrel[\"rating_score\"]).plot(kind=\"bar\", stacked=True, figsize=(10,5));\n",
        "pd.crosstab(levonorgestrel[\"year\"], levonorgestrel[\"condition\"]).plot(kind=\"bar\", stacked=True, figsize=(10,5));\n",
        "pd.crosstab(levonorgestrel[\"year\"], levonorgestrel[\"Topic_Label\"]).plot(kind=\"bar\", stacked=True, figsize=(10,5));\n",
        "pd.crosstab(levonorgestrel[\"condition\"], levonorgestrel[\"rating_score\"]).plot(kind=\"bar\", stacked=True, figsize=(10,5));"
      ],
      "execution_count": 75,
      "outputs": [
        {
          "output_type": "display_data",
          "data": {
            "image/png": "[encoded data removed]",
            "text/plain": [
              "<Figure size 720x360 with 1 Axes>"
            ]
          },
          "metadata": {
            "tags": [],
            "needs_background": "light"
          }
        },
        {
          "output_type": "display_data",
          "data": {
            "image/png": "[encoded data removed]",
            "text/plain": [
              "<Figure size 720x360 with 1 Axes>"
            ]
          },
          "metadata": {
            "tags": [],
            "needs_background": "light"
          }
        },
        {
          "output_type": "display_data",
          "data": {
            "image/png": "[encoded data removed]",
            "text/plain": [
              "<Figure size 720x360 with 1 Axes>"
            ]
          },
          "metadata": {
            "tags": [],
            "needs_background": "light"
          }
        },
        {
          "output_type": "display_data",
          "data": {
            "image/png": "[encoded data removed]",
            "text/plain": [
              "<Figure size 720x360 with 1 Axes>"
            ]
          },
          "metadata": {
            "tags": [],
            "needs_background": "light"
          }
        }
      ]
    },
    {
      "cell_type": "code",
      "metadata": {
        "id": "7Ti4SHPGdCtc",
        "colab": {
          "base_uri": "https://localhost:8080/",
          "height": 1000
        },
        "outputId": "6c94daf2-aa9e-4382-c27c-72e9a83db540"
      },
      "source": [
        "pd.crosstab(etonogestrel[\"year\"], etonogestrel[\"rating_score\"]).plot(kind=\"bar\", stacked=True, figsize=(10,5));\n",
        "pd.crosstab(etonogestrel[\"year\"], etonogestrel[\"condition\"]).plot(kind=\"bar\", stacked=True, figsize=(10,5));\n",
        "pd.crosstab(etonogestrel[\"year\"], etonogestrel[\"Topic_Label\"]).plot(kind=\"bar\", stacked=True, figsize=(10,5));\n",
        "pd.crosstab(etonogestrel[\"condition\"], etonogestrel[\"rating_score\"]).plot(kind=\"bar\", stacked=True, figsize=(10,5));"
      ],
      "execution_count": 77,
      "outputs": [
        {
          "output_type": "display_data",
          "data": {
            "image/png": "[encoded data removed]",
            "text/plain": [
              "<Figure size 720x360 with 1 Axes>"
            ]
          },
          "metadata": {
            "tags": [],
            "needs_background": "light"
          }
        },
        {
          "output_type": "display_data",
          "data": {
            "image/png": "[encoded data removed]",
            "text/plain": [
              "<Figure size 720x360 with 1 Axes>"
            ]
          },
          "metadata": {
            "tags": [],
            "needs_background": "light"
          }
        },
        {
          "output_type": "display_data",
          "data": {
            "image/png": "[encoded data removed]",
            "text/plain": [
              "<Figure size 720x360 with 1 Axes>"
            ]
          },
          "metadata": {
            "tags": [],
            "needs_background": "light"
          }
        },
        {
          "output_type": "display_data",
          "data": {
            "image/png": "[encoded data removed]",
            "text/plain": [
              "<Figure size 720x360 with 1 Axes>"
            ]
          },
          "metadata": {
            "tags": [],
            "needs_background": "light"
          }
        }
      ]
    },
    {
      "cell_type": "code",
      "metadata": {
        "id": "QSvlO1BOdCqg",
        "colab": {
          "base_uri": "https://localhost:8080/",
          "height": 1000
        },
        "outputId": "af4b69b0-c8dd-4154-ef51-6c37b6ce3a53"
      },
      "source": [
        "pd.crosstab(ethinyl_norethindrone[\"year\"], ethinyl_norethindrone[\"rating_score\"]).plot(kind=\"bar\", stacked=True, figsize=(10,5));\n",
        "pd.crosstab(ethinyl_norethindrone[\"year\"], ethinyl_norethindrone[\"condition\"]).plot(kind=\"bar\", stacked=True, figsize=(10,5));\n",
        "pd.crosstab(ethinyl_norethindrone[\"year\"], ethinyl_norethindrone[\"Topic_Label\"]).plot(kind=\"bar\", stacked=True, figsize=(10,5));\n",
        "pd.crosstab(ethinyl_norethindrone[\"condition\"], ethinyl_norethindrone[\"rating_score\"]).plot(kind=\"bar\", stacked=True, figsize=(10,5));"
      ],
      "execution_count": 78,
      "outputs": [
        {
          "output_type": "display_data",
          "data": {
            "image/png": "[encoded data removed]",
            "text/plain": [
              "<Figure size 720x360 with 1 Axes>"
            ]
          },
          "metadata": {
            "tags": [],
            "needs_background": "light"
          }
        },
        {
          "output_type": "display_data",
          "data": {
            "image/png": "[encoded data removed]",
            "text/plain": [
              "<Figure size 720x360 with 1 Axes>"
            ]
          },
          "metadata": {
            "tags": [],
            "needs_background": "light"
          }
        },
        {
          "output_type": "display_data",
          "data": {
            "image/png": "[encoded data removed]",
            "text/plain": [
              "<Figure size 720x360 with 1 Axes>"
            ]
          },
          "metadata": {
            "tags": [],
            "needs_background": "light"
          }
        },
        {
          "output_type": "display_data",
          "data": {
            "image/png": "[encoded data removed]",
            "text/plain": [
              "<Figure size 720x360 with 1 Axes>"
            ]
          },
          "metadata": {
            "tags": [],
            "needs_background": "light"
          }
        }
      ]
    },
    {
      "cell_type": "code",
      "metadata": {
        "id": "7cHL7X2NdCnO"
      },
      "source": [
        ""
      ],
      "execution_count": null,
      "outputs": []
    },
    {
      "cell_type": "code",
      "metadata": {
        "id": "Q9OfOY02ap9T"
      },
      "source": [
        ""
      ],
      "execution_count": null,
      "outputs": []
    }
  ]
}